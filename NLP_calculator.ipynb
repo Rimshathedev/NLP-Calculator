{
  "nbformat": 4,
  "nbformat_minor": 0,
  "metadata": {
    "colab": {
      "provenance": []
    },
    "kernelspec": {
      "name": "python3",
      "display_name": "Python 3"
    },
    "language_info": {
      "name": "python"
    }
  },
  "cells": [
    {
      "cell_type": "code",
      "execution_count": 12,
      "metadata": {
        "colab": {
          "base_uri": "https://localhost:8080/"
        },
        "id": "e2-tSCWRScGD",
        "outputId": "02522fd1-ec61-4938-c2f5-daf15be70920"
      },
      "outputs": [
        {
          "output_type": "stream",
          "name": "stdout",
          "text": [
            "Requirement already satisfied: nltk in /usr/local/lib/python3.10/dist-packages (3.8.1)\n",
            "Requirement already satisfied: click in /usr/local/lib/python3.10/dist-packages (from nltk) (8.1.7)\n",
            "Requirement already satisfied: joblib in /usr/local/lib/python3.10/dist-packages (from nltk) (1.4.2)\n",
            "Requirement already satisfied: regex>=2021.8.3 in /usr/local/lib/python3.10/dist-packages (from nltk) (2024.5.15)\n",
            "Requirement already satisfied: tqdm in /usr/local/lib/python3.10/dist-packages (from nltk) (4.66.5)\n",
            "Requirement already satisfied: word2number in /usr/local/lib/python3.10/dist-packages (1.1)\n"
          ]
        }
      ],
      "source": [
        "!pip install nltk\n",
        "!pip install word2number\n"
      ]
    },
    {
      "cell_type": "code",
      "source": [
        "import nltk\n",
        "from nltk import word_tokenize, pos_tag\n",
        "from word2number import w2n\n",
        "\n",
        "nltk.download('punkt')\n",
        "nltk.download('averaged_perceptron_tagger')\n"
      ],
      "metadata": {
        "colab": {
          "base_uri": "https://localhost:8080/"
        },
        "id": "SIRobPyQSeZ6",
        "outputId": "7eab852c-7cb9-431f-ba92-c4780590656c"
      },
      "execution_count": 13,
      "outputs": [
        {
          "output_type": "stream",
          "name": "stderr",
          "text": [
            "[nltk_data] Downloading package punkt to /root/nltk_data...\n",
            "[nltk_data]   Package punkt is already up-to-date!\n",
            "[nltk_data] Downloading package averaged_perceptron_tagger to\n",
            "[nltk_data]     /root/nltk_data...\n",
            "[nltk_data]   Package averaged_perceptron_tagger is already up-to-\n",
            "[nltk_data]       date!\n"
          ]
        },
        {
          "output_type": "execute_result",
          "data": {
            "text/plain": [
              "True"
            ]
          },
          "metadata": {},
          "execution_count": 13
        }
      ]
    },
    {
      "cell_type": "code",
      "source": [
        "def text_to_arithmetic(text):\n",
        "    # Tokenize the text\n",
        "    tokens = word_tokenize(text.lower())\n",
        "\n",
        "    # Convert written numbers to digits\n",
        "    for i in range(len(tokens)):\n",
        "        try:\n",
        "            tokens[i] = w2n.word_to_num(tokens[i])\n",
        "        except ValueError:\n",
        "            # If conversion fails, just keep the token as is\n",
        "            pass\n",
        "\n",
        "    # Identify operation\n",
        "    if 'plus' in tokens or 'add' in tokens:\n",
        "        operation = '+'\n",
        "    elif 'minus' in tokens or 'subtract' in tokens:\n",
        "        operation = '-'\n",
        "    elif 'multiplied' in tokens or 'times' in tokens:\n",
        "        operation = '*'\n",
        "    elif 'divided' in tokens:\n",
        "        operation = '/'\n",
        "    else:\n",
        "        return \"Sorry, I didn't understand the operation.\"\n",
        "\n",
        "    # Extract numbers and perform the operation\n",
        "    try:\n",
        "        numbers = [token for token in tokens if isinstance(token, int)]\n",
        "\n",
        "        if operation == '+':\n",
        "            result = sum(numbers)\n",
        "        elif operation == '-':\n",
        "            result = numbers[0] - numbers[1]\n",
        "        elif operation == '*':\n",
        "            result = 1\n",
        "            for number in numbers:\n",
        "                result *= number\n",
        "        elif operation == '/':\n",
        "            result = numbers[0] / numbers[1]\n",
        "\n",
        "        return f\"The result is {result}\"\n",
        "\n",
        "    except Exception as e:\n",
        "        return str(e)"
      ],
      "metadata": {
        "id": "0HrzOVIrSqPS"
      },
      "execution_count": 15,
      "outputs": []
    },
    {
      "cell_type": "code",
      "source": [
        "# Test cases\n",
        "print(text_to_arithmetic(\"What is five plus three?\"))\n",
        "print(text_to_arithmetic(\"What is seven minus two?\"))\n",
        "print(text_to_arithmetic(\"What is eight multiplied by four?\"))\n",
        "print(text_to_arithmetic(\"What is twenty divided by five?\"))\n"
      ],
      "metadata": {
        "colab": {
          "base_uri": "https://localhost:8080/"
        },
        "id": "sRllh-JmT44Q",
        "outputId": "898685a9-a705-4f30-9cbd-b68841e8001e"
      },
      "execution_count": 16,
      "outputs": [
        {
          "output_type": "stream",
          "name": "stdout",
          "text": [
            "The result is 8\n",
            "The result is 5\n",
            "The result is 32\n",
            "The result is 4.0\n"
          ]
        }
      ]
    }
  ]
}